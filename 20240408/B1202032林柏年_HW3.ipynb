{
  "nbformat": 4,
  "nbformat_minor": 0,
  "metadata": {
    "colab": {
      "provenance": []
    },
    "kernelspec": {
      "name": "python3",
      "display_name": "Python 3"
    },
    "language_info": {
      "name": "python"
    }
  },
  "cells": [
    {
      "cell_type": "code",
      "execution_count": null,
      "metadata": {
        "id": "BZzqmRYjdWjh"
      },
      "outputs": [],
      "source": [
        "#if ...:\n",
        "# statement...\n",
        "#elif ...:\n",
        "# ststement...\n",
        "#else:\n",
        "# statement...\n",
        "\n",
        "#巢狀判斷 if裡面還有if\n",
        "#條件運算子 and or"
      ]
    },
    {
      "cell_type": "code",
      "source": [
        "W=int(input(\"請輸入體重:(公斤)\"))\n",
        "H=int(input(\"請輸入身高:(公分)\"))\n",
        "W/=(H/100)**2\n",
        "print(\"BMI:\",W)\n",
        "if W<18.5:\n",
        "  print(\"體位:過輕\")\n",
        "elif W>=18.5 and W<24:\n",
        "  print(\"體位:適中\")\n",
        "elif W>=24 and W<27:\n",
        "  print(\"體位:過重\")\n",
        "else:\n",
        "  print(\"體位:肥胖\")"
      ],
      "metadata": {
        "id": "64q0WZ7gjQwU",
        "colab": {
          "base_uri": "https://localhost:8080/"
        },
        "outputId": "6517e05d-fb6d-4736-ed73-2de8cbe2de90"
      },
      "execution_count": 2,
      "outputs": [
        {
          "output_type": "stream",
          "name": "stdout",
          "text": [
            "請輸入體重:(公斤)82\n",
            "請輸入身高:(公分)178\n",
            "BMI: 25.88057063502083\n",
            "體位:過重\n"
          ]
        }
      ]
    },
    {
      "cell_type": "code",
      "source": [
        "a=int(input(\"請輸入第一個數字:\"))\n",
        "k=str(input(\"請輸入運算元:\"))\n",
        "b=int(input(\"請輸入第二個數字:\"))\n",
        "ans=0\n",
        "if k==\"+\":\n",
        "  ans=a+b\n",
        "elif k==\"-\":\n",
        "  ans=a-b\n",
        "elif k==\"*\":\n",
        "  ans=a*b\n",
        "elif k==\"/\":\n",
        "  ans=a/b\n",
        "print(ans)"
      ],
      "metadata": {
        "colab": {
          "base_uri": "https://localhost:8080/"
        },
        "id": "JGxxcjzLk0Xg",
        "outputId": "a85c643d-f61f-423f-de95-629cce58a341"
      },
      "execution_count": 6,
      "outputs": [
        {
          "output_type": "stream",
          "name": "stdout",
          "text": [
            "請輸入第一個數字:2\n",
            "請輸入運算元:/\n",
            "請輸入第二個數字:3\n",
            "0.6666666666666666\n"
          ]
        }
      ]
    },
    {
      "cell_type": "code",
      "source": [
        "year=int(input(\"請輸入年分:\"))\n",
        "if year<=1582:\n",
        "  if year%4==0:\n",
        "    print(\"閏年\")\n",
        "  else:\n",
        "    print(\"平年\")\n",
        "else:\n",
        "  if (year%4==0 and year%100!=0)or(year%400==0):\n",
        "    print(\"閏年\")\n",
        "  else:\n",
        "    print(\"平年\")"
      ],
      "metadata": {
        "colab": {
          "base_uri": "https://localhost:8080/"
        },
        "id": "8fxiJPSpqBWC",
        "outputId": "5ed3b515-fede-48c8-913f-809dc022faf2"
      },
      "execution_count": 10,
      "outputs": [
        {
          "output_type": "stream",
          "name": "stdout",
          "text": [
            "請輸入年分:1987\n",
            "平年\n"
          ]
        }
      ]
    }
  ]
}