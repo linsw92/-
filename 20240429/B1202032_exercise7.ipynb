{
  "nbformat": 4,
  "nbformat_minor": 0,
  "metadata": {
    "colab": {
      "provenance": []
    },
    "kernelspec": {
      "name": "python3",
      "display_name": "Python 3"
    },
    "language_info": {
      "name": "python"
    }
  },
  "cells": [
    {
      "cell_type": "code",
      "execution_count": 4,
      "metadata": {
        "id": "HKVNbRtIq52K",
        "colab": {
          "base_uri": "https://localhost:8080/"
        },
        "outputId": "ccfddb93-4a6d-4017-b8fe-44372625f23a"
      },
      "outputs": [
        {
          "output_type": "stream",
          "name": "stdout",
          "text": [
            "請輸入高度9\n",
            "         *\n",
            "        ***\n",
            "       *****\n",
            "      *******\n",
            "     *********\n",
            "    ***********\n",
            "   *************\n",
            "  ***************\n",
            " *****************\n",
            "        ***\n",
            "        ***\n",
            "        ***\n",
            "        ***\n",
            "        ***\n"
          ]
        }
      ],
      "source": [
        "def height(h):\n",
        "  for i in range(h):\n",
        "    print((' '*(h-i))+('*')*((2*i)+1))\n",
        "  r=5\n",
        "  for i in range(r):\n",
        "    print((' ')*8+('*')*3)\n",
        "\n",
        "h=int(input(\"請輸入高度\"))\n",
        "height(h)\n"
      ]
    },
    {
      "cell_type": "code",
      "source": [
        "def bmi(H,W):\n",
        "\n",
        "  b=W/((H/100)**2)\n",
        "  if b<18.5:\n",
        "    return 1\n",
        "  elif b>=18.5 and b<24:\n",
        "    return 2\n",
        "  elif b>=24 and b<27:\n",
        "    return 3\n",
        "  else:\n",
        "    return 4\n",
        "\n",
        "\n",
        "\n",
        "try:\n",
        "\n",
        "  W=int(input(\"請輸入體重(公斤):\"))\n",
        "  H=int(input(\"請輸入身高(公分):\"))\n",
        "  b=W/((H/100)**2)\n",
        "  if bmi(H,W)==1:\n",
        "    print(\"BMI:\",b)\n",
        "    print(\"體位:過輕\")\n",
        "  elif bmi(H,W)==2:\n",
        "    print(\"BMI:\",b)\n",
        "    print(\"體位:適中\")\n",
        "  elif bmi(H,W)==3:\n",
        "    print(\"BMI:\",b)\n",
        "    print(\"體位:過重\")\n",
        "  elif bmi(H,W)==4:\n",
        "    print(\"BMI:\",b)\n",
        "    print(\"體位:肥胖\")\n",
        "except:\n",
        "  print(\"輸入內容錯誤\")\n"
      ],
      "metadata": {
        "colab": {
          "base_uri": "https://localhost:8080/"
        },
        "id": "l0qLJAv7u5Uz",
        "outputId": "76cdc13d-9cd1-4f55-c034-0d2033384a7e"
      },
      "execution_count": 16,
      "outputs": [
        {
          "output_type": "stream",
          "name": "stdout",
          "text": [
            "請輸入體重(公斤):82\n",
            "請輸入身高(公分):q\n",
            "輸入內容錯誤\n"
          ]
        }
      ]
    }
  ]
}