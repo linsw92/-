{
  "nbformat": 4,
  "nbformat_minor": 0,
  "metadata": {
    "colab": {
      "provenance": []
    },
    "kernelspec": {
      "name": "python3",
      "display_name": "Python 3"
    },
    "language_info": {
      "name": "python"
    }
  },
  "cells": [
    {
      "cell_type": "code",
      "execution_count": 1,
      "metadata": {
        "colab": {
          "base_uri": "https://localhost:8080/"
        },
        "id": "0r1vStwJmhaK",
        "outputId": "e743fd63-b3ef-4ebc-f8b6-6dd0c2604914"
      },
      "outputs": [
        {
          "output_type": "stream",
          "name": "stdout",
          "text": [
            "I'm a student\n"
          ]
        }
      ],
      "source": [
        "print(\"I'm a student\")"
      ]
    },
    {
      "cell_type": "code",
      "source": [
        "X1=int(input(\"請輸入A點x座標\"))\n",
        "Y1=int(input(\"請輸入A點y座標\"))\n",
        "X2=int(input(\"請輸入B點x座標\"))\n",
        "Y2=int(input(\"請輸入B點y座標\"))\n",
        "z=((X1-X2)**2+(Y1-Y2)**2)**0.5\n",
        "print(\"兩點距離為:\",z)"
      ],
      "metadata": {
        "colab": {
          "base_uri": "https://localhost:8080/"
        },
        "id": "AABl29YE3Rai",
        "outputId": "23b376b8-4da7-44f0-e8bf-f8bc990cab96"
      },
      "execution_count": 14,
      "outputs": [
        {
          "output_type": "stream",
          "name": "stdout",
          "text": [
            "請輸入A點x座標1\n",
            "請輸入A點y座標1\n",
            "請輸入B點x座標2\n",
            "請輸入B點y座標2\n",
            "兩點距離為: 1.4142135623730951\n"
          ]
        }
      ]
    },
    {
      "cell_type": "code",
      "source": [
        "W=int(input(\"請輸入體重:(公斤)\"))\n",
        "H=int(input(\"請輸入身高:(公分)\"))\n",
        "W/=(H/100)**2\n",
        "print(\"您的BMI值為:\",W)"
      ],
      "metadata": {
        "colab": {
          "base_uri": "https://localhost:8080/"
        },
        "id": "DRQTvEbLdkE8",
        "outputId": "5811c663-ee6c-4131-d2a5-c71b330efe91"
      },
      "execution_count": 2,
      "outputs": [
        {
          "output_type": "stream",
          "name": "stdout",
          "text": [
            "請輸入體重:(公斤)86\n",
            "請輸入身高:(公分)178\n",
            "您的BMI值為: 27.143037495265748\n"
          ]
        }
      ]
    }
  ]
}