{
  "nbformat": 4,
  "nbformat_minor": 0,
  "metadata": {
    "colab": {
      "provenance": []
    },
    "kernelspec": {
      "name": "python3",
      "display_name": "Python 3"
    },
    "language_info": {
      "name": "python"
    }
  },
  "cells": [
    {
      "cell_type": "code",
      "execution_count": null,
      "metadata": {
        "colab": {
          "base_uri": "https://localhost:8080/"
        },
        "id": "fkV1LmxhZn7d",
        "outputId": "f9b644b7-3754-459e-913e-7e0150dfc06a"
      },
      "outputs": [
        {
          "output_type": "stream",
          "name": "stdout",
          "text": [
            "Answer is 495\n"
          ]
        }
      ],
      "source": [
        "x=2\n",
        "y=1\n",
        "\n",
        "a=2*x+y\n",
        "b=100-y\n",
        "\n",
        "z=a*b\n",
        "\n",
        "print(\"Answer is\",z)"
      ]
    },
    {
      "cell_type": "code",
      "source": [
        "y=4\n",
        "\n",
        "a=100\n",
        "b=2*y+1\n",
        "z=a/b\n",
        "\n",
        "print(\"Answer is\",z)"
      ],
      "metadata": {
        "colab": {
          "base_uri": "https://localhost:8080/"
        },
        "id": "T8_pdOqQaWZP",
        "outputId": "a365a93b-f290-46f2-ef0d-2c0e2480c500"
      },
      "execution_count": null,
      "outputs": [
        {
          "output_type": "stream",
          "name": "stdout",
          "text": [
            "Answer is 11.11111111111111\n"
          ]
        }
      ]
    }
  ]
}