{
  "nbformat": 4,
  "nbformat_minor": 0,
  "metadata": {
    "colab": {
      "provenance": []
    },
    "kernelspec": {
      "name": "python3",
      "display_name": "Python 3"
    },
    "language_info": {
      "name": "python"
    }
  },
  "cells": [
    {
      "cell_type": "code",
      "execution_count": null,
      "metadata": {
        "id": "fkqy0DUBXkGb"
      },
      "outputs": [],
      "source": [
        "#字典 a={'鍵':值}\n",
        "#dict(鍵=值)\n",
        "#把二為串列變dict 把第一個值當鍵 第二個為值\n",
        "#讀取:a=字典名['鍵']\n",
        "#值可以是數字或字串\n",
        "\n",
        "#get('鍵')\n",
        "#若鍵不存在 回傳none a=字典名.get()\n",
        "\n",
        "#字典['鍵']=新值   修改\n",
        "\n",
        "#字典.setdefault('鍵',值)  用來加入字典裡沒有的鍵值\n",
        "\n",
        "#del 字典 刪除整個字典   del 字典['鍵'] 刪除某組鍵值\n",
        "\n",
        "#字典.pop('鍵') 取得並移出\n",
        "\n",
        "#字典.clear() 清空字典 字典本身還在\n",
        "\n",
        "#**字典:拆解  {**a,**b,**c} 大括號組合字典\n",
        "\n",
        "#字典1.update(字典2) 把字典1的內容放在2的後面\n",
        "\n",
        "#字典2=字典.copy() 複製字典 只能對項目內容不會變動的字典 否則變動內容也會複製\n",
        "#先 import copy 再 字典2=copy.deepcopy(字典1)\n",
        "\n",
        "#字典.keys() 取出所有鍵\n",
        "#字典.values() 取出所有值\n",
        "\n",
        "#'鍵' in 字典    回傳true false\n"
      ]
    },
    {
      "cell_type": "code",
      "source": [
        "d={'姓名':\"賴宏瑋\",'性別':\"男\",'作業分數':[80,95,100,90]}\n",
        "\n",
        "d.setdefault('學號',\"M1129020\")\n",
        "d['作業分數'][1]=100\n",
        "p=d.get('作業分數')\n",
        "\n",
        "del p[0]\n",
        "list(p)\n",
        "print(d)\n",
        "t=(int(p[0])+int(p[1])+int(p[2]))/3\n",
        "print(t)\n",
        "\n",
        "\n",
        "\n"
      ],
      "metadata": {
        "colab": {
          "base_uri": "https://localhost:8080/"
        },
        "id": "8087e_7FeCyj",
        "outputId": "0e490db4-e2b9-415f-ef06-376829a86e5a"
      },
      "execution_count": 29,
      "outputs": [
        {
          "output_type": "stream",
          "name": "stdout",
          "text": [
            "{'姓名': '賴宏瑋', '性別': '男', '作業分數': [100, 100, 90], '學號': 'M1129020'}\n",
            "96.66666666666667\n"
          ]
        }
      ]
    },
    {
      "cell_type": "markdown",
      "source": [],
      "metadata": {
        "id": "wdsF1stmgLDZ"
      }
    }
  ]
}