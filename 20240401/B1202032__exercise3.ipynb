{
  "cells": [
    {
      "cell_type": "code",
      "execution_count": null,
      "metadata": {
        "id": "fkqy0DUBXkGb"
      },
      "outputs": [],
      "source": [
        "#字典 a={'鍵':值}\n",
        "#dict(鍵=值)\n",
        "#把二為串列變dict 把第一個值當鍵 第二個為值\n",
        "#讀取:a=字典名['鍵']\n",
        "#值可以是數字或字串\n",
        "\n",
        "#get('鍵')\n",
        "#若鍵不存在 回傳none a=字典名.get()\n",
        "\n",
        "#字典['鍵']=新值   修改\n",
        "\n",
        "#字典.setdefault('鍵',值)  用來加入字典裡沒有的鍵值\n",
        "\n",
        "#del 字典 刪除整個字典   del 字典['鍵'] 刪除某組鍵值\n",
        "\n",
        "#字典.pop('鍵') 取得並移出\n",
        "\n",
        "#字典.clear() 清空字典 字典本身還在\n",
        "\n",
        "#**字典:拆解  {**a,**b,**c} 大括號組合字典\n",
        "\n",
        "#字典1.update(字典2) 把字典1的內容放在2的後面\n",
        "\n",
        "#字典2=字典.copy() 複製字典 只能對項目內容不會變動的字典 否則變動內容也會複製\n",
        "#先 import copy 再 字典2=copy.deepcopy(字典1)\n",
        "\n",
        "#字典.keys() 取出所有鍵\n",
        "#字典.values() 取出所有值\n",
        "\n",
        "#'鍵' in 字典    回傳true false\n"
      ]
    },
    {
      "cell_type": "code",
      "execution_count": 7,
      "metadata": {
        "colab": {
          "base_uri": "https://localhost:8080/"
        },
        "id": "8087e_7FeCyj",
        "outputId": "6e138072-b620-4157-af26-7ccfe7431a15"
      },
      "outputs": [
        {
          "output_type": "stream",
          "name": "stdout",
          "text": [
            "88.33333333333333 {'姓名': '賴宏瑋', '性別': '男', '學號': 'M1129020'}\n",
            "95.0 {'姓名': '許珈綺', '性別': '女', '學號': 'M1229001'}\n"
          ]
        }
      ],
      "source": [
        "d1={\"姓名\":\"賴宏瑋\",\"性別\":\"男\",\"作業分數\":[95,100,90]}\n",
        "d2={\"學號\":\"M1129020\"}\n",
        "d3={**d1,**d2}\n",
        "import copy\n",
        "d4=copy.deepcopy(d3)\n",
        "d3['作業分數']=[95,80,90]\n",
        "d4['姓名']=\"許珈綺\"\n",
        "d4['性別']=\"女\"\n",
        "d4['學號']=\"M1229001\"\n",
        "\n",
        "p3=d3.pop(\"作業分數\")\n",
        "list(p3)\n",
        "a3=(int(p3[0])+int(p3[1])+int(p3[2]))/3\n",
        "print(a3,d3)\n",
        "\n",
        "p4=d4.pop(\"作業分數\")\n",
        "list(p4)\n",
        "a4=(int(p4[0])+int(p4[1])+int(p4[2]))/3\n",
        "print(a4,d4)\n"
      ]
    },
    {
      "cell_type": "code",
      "source": [
        "a=[100,50,45,60,90,95,80,50]#最前面加入88 第三道第五改成70 50 將第一個50刪除 取出最後和第一個數字 串列中鄉珈並輸出結果\n",
        "a.insert(0,88)\n",
        "a[2:5]=[70,50]\n",
        "a.remove(50)\n",
        "\n",
        "b=a.pop(0)\n",
        "c=a.pop(5)\n",
        "print(b+c)\n"
      ],
      "metadata": {
        "colab": {
          "base_uri": "https://localhost:8080/"
        },
        "id": "_Awhh8Rli2kQ",
        "outputId": "791ba19a-a123-449a-f164-a76dce465220"
      },
      "execution_count": 21,
      "outputs": [
        {
          "output_type": "stream",
          "name": "stdout",
          "text": [
            "138\n"
          ]
        }
      ]
    },
    {
      "cell_type": "code",
      "source": [
        "a=347/3\n",
        "b=347%3\n",
        "print(a**b)"
      ],
      "metadata": {
        "colab": {
          "base_uri": "https://localhost:8080/"
        },
        "id": "QL2AjL0fnMKf",
        "outputId": "2cb07654-77d6-41f4-9174-bd791586d1db"
      },
      "execution_count": 19,
      "outputs": [
        {
          "output_type": "stream",
          "name": "stdout",
          "text": [
            "13378.77777777778\n"
          ]
        }
      ]
    },
    {
      "cell_type": "markdown",
      "metadata": {
        "id": "wdsF1stmgLDZ"
      },
      "source": []
    }
  ],
  "metadata": {
    "colab": {
      "provenance": []
    },
    "kernelspec": {
      "display_name": "Python 3",
      "name": "python3"
    },
    "language_info": {
      "name": "python"
    }
  },
  "nbformat": 4,
  "nbformat_minor": 0
}