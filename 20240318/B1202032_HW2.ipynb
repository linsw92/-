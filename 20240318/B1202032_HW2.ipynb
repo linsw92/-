{
  "nbformat": 4,
  "nbformat_minor": 0,
  "metadata": {
    "colab": {
      "provenance": []
    },
    "kernelspec": {
      "name": "python3",
      "display_name": "Python 3"
    },
    "language_info": {
      "name": "python"
    }
  },
  "cells": [
    {
      "cell_type": "code",
      "execution_count": 1,
      "metadata": {
        "colab": {
          "base_uri": "https://localhost:8080/"
        },
        "id": "-PcHb8LLWnGp",
        "outputId": "3c0c448f-4c96-4c8c-a1cc-86f83c03a4bf"
      },
      "outputs": [
        {
          "output_type": "stream",
          "name": "stdout",
          "text": [
            "123 <class 'int'>\n",
            "<class 'str'>\n"
          ]
        }
      ],
      "source": [
        "a=123\n",
        "print(a,type(a))\n",
        "a=str(123)\n",
        "print(a,type(a))"
      ]
    },
    {
      "cell_type": "code",
      "source": [
        "a=r\"abc\\ndef\"#前方加r是不轉義的意思\n",
        "b=\"abcdef\"#轉義是像\\n\n",
        "print(a,b)"
      ],
      "metadata": {
        "colab": {
          "base_uri": "https://localhost:8080/"
        },
        "id": "X4UPyQxNXIaH",
        "outputId": "f9d6a06a-59f8-4881-a39e-3e6aaebddc97"
      },
      "execution_count": 2,
      "outputs": [
        {
          "output_type": "stream",
          "name": "stdout",
          "text": [
            "abc\\ndef abcdef\n"
          ]
        }
      ]
    },
    {
      "cell_type": "code",
      "source": [
        "a=\"hello world\"#從0開始 空格也算 -1是從右邊數來第一個\n",
        "print(a[3])"
      ],
      "metadata": {
        "colab": {
          "base_uri": "https://localhost:8080/"
        },
        "id": "0fDYJo48YFLR",
        "outputId": "2c2aa6ad-915f-451b-8add-1802581749e0"
      },
      "execution_count": 3,
      "outputs": [
        {
          "output_type": "stream",
          "name": "stdout",
          "text": [
            "l\n"
          ]
        }
      ]
    },
    {
      "cell_type": "code",
      "source": [
        "a='0123456789abcdef'\n",
        "print(a[:])\n",
        "print(a[5:])\n",
        "print(a[:5])#取到前一個  [start:end:step(間隔)]\n"
      ],
      "metadata": {
        "id": "vVtNDdRVYi1Z"
      },
      "execution_count": null,
      "outputs": []
    },
    {
      "cell_type": "code",
      "source": [
        "a='0123456789-\\\\\\\"\\''\n",
        "print(a,len(a))#跳過轉義字元"
      ],
      "metadata": {
        "colab": {
          "base_uri": "https://localhost:8080/"
        },
        "id": "gBtBHLEXZKqI",
        "outputId": "ae114f71-465d-4c32-9d13-c4780960b008"
      },
      "execution_count": 4,
      "outputs": [
        {
          "output_type": "stream",
          "name": "stdout",
          "text": [
            "0123456789-\\\"' 14\n"
          ]
        }
      ]
    },
    {
      "cell_type": "code",
      "source": [
        "#使用split(指定拆分符號) 拆分字串\n",
        "a=\"hello world ,I\\'m lbn\"\n",
        "b=a.split(',')"
      ],
      "metadata": {
        "id": "jwUgddk0ZjHb"
      },
      "execution_count": 7,
      "outputs": []
    },
    {
      "cell_type": "code",
      "source": [
        "#用[]宣告list list中不一定要都是字串或都是integer\n",
        "#或是先\n",
        "a=(\"sss\",\"ss\",\"s\")\n",
        "b=list(a)\n",
        "#+號合併串列\n",
        "#或用a.extend(b)\n",
        "#欲指定串列中之串列 用連續[]\n",
        "#串列名.append()把新元素加在串列尾端\n",
        "#串列名.insert(位置,元素)可指定位置\n",
        "#修改 可以直接改宣告 串列名[位置]=...\n",
        "#del 串列名[位置] 用來刪除\n",
        "#串列名.remove() 若串列中有多個欲刪內容 只會刪第一個\n",
        "#pop()取出一個項目 若不指定則取最後\n",
        "#clear()清空串列"
      ],
      "metadata": {
        "id": "gLNYoUFrZyhZ"
      },
      "execution_count": null,
      "outputs": []
    },
    {
      "cell_type": "code",
      "source": [
        "a='C,B,A'\n",
        "b=['F','G','H']\n",
        "a=a.split(',')\n",
        "a.extend(b)\n",
        "a[0]='K'\n",
        "print(a.pop(2))\n",
        "del a[1:4]\n",
        "a.append('U')\n",
        "print(a)"
      ],
      "metadata": {
        "colab": {
          "base_uri": "https://localhost:8080/"
        },
        "id": "_YmabXUwcE1i",
        "outputId": "a4ad0945-c603-4b14-c712-2afe42814c07"
      },
      "execution_count": 15,
      "outputs": [
        {
          "output_type": "stream",
          "name": "stdout",
          "text": [
            "A\n",
            "['K', 'H', 'U']\n"
          ]
        }
      ]
    },
    {
      "cell_type": "code",
      "source": [
        "a=input(\"請輸入一八位數\")\n",
        "print(a[4])"
      ],
      "metadata": {
        "colab": {
          "base_uri": "https://localhost:8080/"
        },
        "id": "s6qWwrvGgSps",
        "outputId": "f8d81ad2-75c0-4dfd-dca7-12d48c683e0b"
      },
      "execution_count": 16,
      "outputs": [
        {
          "output_type": "stream",
          "name": "stdout",
          "text": [
            "請輸入一八位數12345678\n",
            "5\n"
          ]
        }
      ]
    },
    {
      "cell_type": "code",
      "source": [
        "a=\"My ID is B1202032\"\n",
        "a=a.split()\n",
        "print(len(a),len(a[3][0:]))"
      ],
      "metadata": {
        "colab": {
          "base_uri": "https://localhost:8080/"
        },
        "id": "CDnqa1rfgkk8",
        "outputId": "250fd1dc-d3fe-4c92-9362-a8c90ad27201"
      },
      "execution_count": 24,
      "outputs": [
        {
          "output_type": "stream",
          "name": "stdout",
          "text": [
            "4 8\n"
          ]
        }
      ]
    },
    {
      "cell_type": "code",
      "source": [
        "a=\"I\\'m a student\"\n",
        "a=a.split()\n",
        "print(a[0][2])"
      ],
      "metadata": {
        "colab": {
          "base_uri": "https://localhost:8080/"
        },
        "id": "pldyabG6hb58",
        "outputId": "89b074a8-11ab-4b94-ad7a-d549b8cdc17c"
      },
      "execution_count": 20,
      "outputs": [
        {
          "output_type": "stream",
          "name": "stdout",
          "text": [
            "m\n"
          ]
        }
      ]
    }
  ]
}